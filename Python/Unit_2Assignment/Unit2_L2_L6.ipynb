{
  "nbformat": 4,
  "nbformat_minor": 0,
  "metadata": {
    "colab": {
      "name": "Unit2_L2-L6.ipynb",
      "provenance": [],
      "collapsed_sections": [],
      "authorship_tag": "ABX9TyNFW4Z4nMh6iTbXxtFkXCQ+",
      "include_colab_link": true
    },
    "kernelspec": {
      "name": "python3",
      "display_name": "Python 3"
    },
    "language_info": {
      "name": "python"
    }
  },
  "cells": [
    {
      "cell_type": "markdown",
      "metadata": {
        "id": "view-in-github",
        "colab_type": "text"
      },
      "source": [
        "<a href=\"https://colab.research.google.com/github/CarolinaValen/Data_Analytics_2/blob/main/Python/Unit_2Assignment/Unit2_L2_L6.ipynb\" target=\"_parent\"><img src=\"https://colab.research.google.com/assets/colab-badge.svg\" alt=\"Open In Colab\"/></a>"
      ]
    },
    {
      "cell_type": "code",
      "metadata": {
        "colab": {
          "base_uri": "https://localhost:8080/"
        },
        "id": "rIm0afKvdA5Z",
        "outputId": "56b68fe6-c011-4468-dc13-6c71b10d0ed1"
      },
      "source": [
        "#Lesson 3 assignment\n",
        "list = ['stranger things','atypical','loki','the office','dickinson']\n",
        "print(list)\n",
        "print(sorted(list))\n",
        "print(list)\n",
        "print(sorted(list, reverse=True))\n",
        "print(\"I have \" + str(len(list)) + \" favorite tv shows\")"
      ],
      "execution_count": null,
      "outputs": [
        {
          "output_type": "stream",
          "text": [
            "['stranger things', 'atypical', 'loki', 'the office', 'dickinson']\n",
            "['atypical', 'dickinson', 'loki', 'stranger things', 'the office']\n",
            "['stranger things', 'atypical', 'loki', 'the office', 'dickinson']\n",
            "['the office', 'stranger things', 'loki', 'dickinson', 'atypical']\n",
            "I have 5 favorite tv shows\n"
          ],
          "name": "stdout"
        }
      ]
    },
    {
      "cell_type": "code",
      "metadata": {
        "colab": {
          "base_uri": "https://localhost:8080/"
        },
        "id": "DVx6zcrpdIjM",
        "outputId": "4e1576ab-f484-48ab-bc6d-d079b724ac4d"
      },
      "source": [
        "#Lesson 4 Assignment\n",
        "colors = ['blue','grey','green','purple','orange']\n",
        "for color in colors:\n",
        "  print(color + \" is my favorite color\")\n",
        "for num in range(1,21):\n",
        "  if(num%2) == 0:\n",
        "   print(num)\n",
        "print(sorted(colors))\n",
        "print(colors[0:3])\n",
        "print(colors[-2:])"
      ],
      "execution_count": null,
      "outputs": [
        {
          "output_type": "stream",
          "text": [
            "blue is my favorite color\n",
            "grey is my favorite color\n",
            "green is my favorite color\n",
            "purple is my favorite color\n",
            "orange is my favorite color\n",
            "2\n",
            "4\n",
            "6\n",
            "8\n",
            "10\n",
            "12\n",
            "14\n",
            "16\n",
            "18\n",
            "20\n",
            "['blue', 'green', 'grey', 'orange', 'purple']\n",
            "['blue', 'grey', 'green']\n",
            "['purple', 'orange']\n"
          ],
          "name": "stdout"
        }
      ]
    },
    {
      "cell_type": "code",
      "metadata": {
        "id": "z_AHOvJFfHZE",
        "colab": {
          "base_uri": "https://localhost:8080/"
        },
        "outputId": "c2ad8ad2-0d43-4375-ca82-b256796d662d"
      },
      "source": [
        "#Lesson 5 Assignment\n",
        "#1\n",
        "usernames = ['adieves','oatmeal','treeman','vice','harvey']\n",
        "for username in usernames:\n",
        "  if username == 'treeman':\n",
        "    print(\"Welcome admin \" + username.title() + \" you are now logged in\" )\n",
        "  else:\n",
        "    print(\"Hello user \" + username.title())\n",
        "#2\n",
        "list = [1,2,3,4,5,6,7,8,9,10]\n",
        "for l in list:\n",
        "  if l == 1:\n",
        "    print(str(1) +\"st\")\n",
        "  elif l == 2:\n",
        "    print(str(l) +\"nd\")\n",
        "  elif l == 3:\n",
        "    print(str(l) +\"rd\")\n",
        "  else:\n",
        "    print(str(l) +\"th\")"
      ],
      "execution_count": 10,
      "outputs": [
        {
          "output_type": "stream",
          "text": [
            "Hello user Adieves\n",
            "Hello user Oatmeal\n",
            "Welcome admin Treeman you are now logged in\n",
            "Hello user Vice\n",
            "Hello user Harvey\n",
            "1st\n",
            "2nd\n",
            "3rd\n",
            "4th\n",
            "5th\n",
            "6th\n",
            "7th\n",
            "8th\n",
            "9th\n",
            "10th\n"
          ],
          "name": "stdout"
        }
      ]
    },
    {
      "cell_type": "code",
      "metadata": {
        "colab": {
          "base_uri": "https://localhost:8080/"
        },
        "id": "8USno2WqHBB8",
        "outputId": "df317f09-3c90-41b7-c04b-732b7c8c8e5a"
      },
      "source": [
        "#Lesson 6\n",
        "person = {'first_name': 'Phillip','last_name':'Cooper'}\n",
        "print(person)\n",
        "print(\"Hello \" + person['first_name']+\" \"+ person['last_name']+ \" how are you?\")\n",
        "\n",
        "country_capitals = {'America':'Washington_DC','United_Kingdom':'London'}\n",
        "print(country_capitals['America'])\n",
        "print(country_capitals['United_Kingdom'])\n",
        "\n",
        "people = {'mark': {'age':'16', 'dog': 'tyson'},\n",
        "          'sasha':{'age':'26', 'cat': 'sylvester'},\n",
        "          'taylor':{'age':'35', 'fish': 'bob'}}\n",
        "for name, info in people.items():\n",
        "  print(\"My name is \" + name.title())\n",
        "  for key in info:\n",
        "    print(\"My \" + key + \" is \" + info[key])"
      ],
      "execution_count": 30,
      "outputs": [
        {
          "output_type": "stream",
          "text": [
            "{'first_name': 'Phillip', 'last_name': 'Cooper'}\n",
            "Hello Phillip Cooper how are you?\n",
            "Washington_DC\n",
            "London\n",
            "My name is Mark\n",
            "My age is 16\n",
            "My dog is tyson\n",
            "My name is Sasha\n",
            "My age is 26\n",
            "My cat is sylvester\n",
            "My name is Taylor\n",
            "My age is 35\n",
            "My fish is bob\n"
          ],
          "name": "stdout"
        }
      ]
    },
    {
      "cell_type": "code",
      "metadata": {
        "colab": {
          "base_uri": "https://localhost:8080/"
        },
        "id": "V4AgRIEFN1Y7",
        "outputId": "4f512d05-8556-49e2-c3fa-51692fea97c7"
      },
      "source": [
        "#Mini Project Odd or Even\n",
        "number = int(input(\"Enter a number \"))\n",
        "if number % 4 == 0:\n",
        "   print(\"This even number ia a multiple of four\")\n",
        "elif number % 2 == 0:\n",
        "   print(\"This is an even number\")\n",
        "else:\n",
        "   print(\"This is an odd number\")\n",
        "print(\"\\n\")\n",
        "\n",
        "num = int(input(\"Enter a number\"))\n",
        "check = int(input(\"Ënter a number\"))\n",
        "if num % check == 0:\n",
        " print(\"These two numbers divide evenly into each other\")\n",
        "else:\n",
        "  print(\"These two numbers do not divide evenly into each other\")"
      ],
      "execution_count": 62,
      "outputs": [
        {
          "output_type": "stream",
          "text": [
            "Enter a number 8\n",
            "This even number ia a multiple of four\n",
            "\n",
            "\n",
            "Enter a number4\n",
            "Ënter a number2\n",
            "These two numbers divide evenly into each other\n"
          ],
          "name": "stdout"
        }
      ]
    },
    {
      "cell_type": "code",
      "metadata": {
        "id": "xLTOuVrVmit_"
      },
      "source": [
        "#Mini Project Rock-Paper-Scissors\n",
        "player_1 = input(\"Enter Rock, Paper, or Scissors: \")\n",
        "player_2 = input(\"Enter Rock, Paper, or Scissors: \")\n",
        "\n",
        "def play(player_1, player_2):\n",
        " if player_1 == player_2:\n",
        "      return(\"Its a tie nobody wins\")\n",
        " elif player_1 == 'rock':\n",
        "    if player_2 == 'scissors':\n",
        "        return(\"Rock wins\")\n",
        "    else:\n",
        "        return(\"Paper wins\")\n",
        " elif player_1 == 'scissors':\n",
        "    if player_2 == 'paper':\n",
        "        return(\"Scissors win\")\n",
        "    else:\n",
        "        return(\"Rock wins\")\n",
        " elif player_1 == 'paper':\n",
        "    if player_2 == 'rock':\n",
        "        return(\"Paper wins\")\n",
        "    else:\n",
        "        return(\"Scissors win\")\n",
        " \n",
        " else:\n",
        "    return(\"Invalid input\")\n",
        "    return compare()\n",
        "\n",
        "print(play(player_1, player_2))\n",
        "\n",
        "new_game = input(\"New Game? - Enter Y/N \")\n",
        "if new_game == 'Y':\n",
        "   play(player_1,player_2)\n",
        "else:\n",
        "    sys.exit()"
      ],
      "execution_count": null,
      "outputs": []
    }
  ]
}